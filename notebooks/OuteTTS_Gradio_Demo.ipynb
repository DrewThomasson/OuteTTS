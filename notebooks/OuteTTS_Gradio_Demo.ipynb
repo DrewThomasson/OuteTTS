{
  "nbformat": 4,
  "nbformat_minor": 0,
  "metadata": {
    "colab": {
      "provenance": [],
      "gpuType": "T4",
      "authorship_tag": "ABX9TyNliZGCnCbu7IPgLrUSh71J",
      "include_colab_link": true
    },
    "kernelspec": {
      "name": "python3",
      "display_name": "Python 3"
    },
    "language_info": {
      "name": "python"
    },
    "accelerator": "GPU"
  },
  "cells": [
    {
      "cell_type": "markdown",
      "metadata": {
        "id": "view-in-github",
        "colab_type": "text"
      },
      "source": [
        "<a href=\"https://colab.research.google.com/github/DrewThomasson/OuteTTS/blob/main/notebooks/OuteTTS_Gradio_Demo.ipynb\" target=\"_parent\"><img src=\"https://colab.research.google.com/assets/colab-badge.svg\" alt=\"Open In Colab\"/></a>"
      ]
    },
    {
      "cell_type": "code",
      "execution_count": null,
      "metadata": {
        "cellView": "form",
        "id": "lLhY_77p2Y-Q"
      },
      "outputs": [],
      "source": [
        "# @title Install Requirments and run OuteTTS Gradio Demo 🚀\n",
        "# Requirments\n",
        "!sudo apt-get update\n",
        "!sudo apt-get install libsndfile1\n",
        "!sudo apt-get install portaudio19-dev\n",
        "!pip install torch\n",
        "!pip install soundfile\n",
        "!pip install sounddevice\n",
        "!pip install faster-whisper\n",
        "!pip install transformers\n",
        "!pip install huggingface_hub\n",
        "!pip install torchaudio\n",
        "\n",
        "!pip install outetts\n",
        "\n",
        "!pip install gradio==5.5.0\n",
        "\n",
        "# For Downloading the app.py file from the Demo Hugging Face Space\n",
        "!wget -O app.py https://huggingface.co/spaces/drewThomasson/OuteTTS-DEMO/raw/main/app.py\n",
        "\n",
        "# Modify the code to set `share=True` in demo.launch()\n",
        "import fileinput\n",
        "\n",
        "# Replace `demo.launch()` with `demo.launch(share=True)`\n",
        "for line in fileinput.input(\"app.py\", inplace=True):\n",
        "    print(line.replace(\"demo.launch()\", \"demo.launch(share=True)\"), end=\"\")\n",
        "\n",
        "# Run the app\n",
        "!python app.py\n"
      ]
    }
  ]
}